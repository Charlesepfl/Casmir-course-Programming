{
 "cells": [
  {
   "cell_type": "code",
   "execution_count": null,
   "id": "18c62ed6",
   "metadata": {
    "ExecuteTime": {
     "end_time": "2023-06-30T15:04:11.878158Z",
     "start_time": "2023-06-30T15:04:11.869182Z"
    }
   },
   "outputs": [],
   "source": [
    "import h5py\n",
    "import numpy as np\n",
    "import pandas as pd\n",
    "from pandas import HDFStore\n",
    "import matplotlib.pyplot as plt\n",
    "import open3d as o3d\n",
    "import os\n",
    "from matplotlib import cm\n",
    "import cv2 as cv"
   ]
  },
  {
   "cell_type": "code",
   "execution_count": null,
   "id": "47b847a8",
   "metadata": {
    "ExecuteTime": {
     "end_time": "2023-06-30T15:04:11.893118Z",
     "start_time": "2023-06-30T15:04:11.880152Z"
    }
   },
   "outputs": [],
   "source": [
    "file_location = ''\n",
    "hdf = HDFStore(file_location+'', 'r')"
   ]
  },
  {
   "cell_type": "code",
   "execution_count": null,
   "id": "c1b431fc",
   "metadata": {
    "ExecuteTime": {
     "end_time": "2023-06-30T15:04:11.909075Z",
     "start_time": "2023-06-30T15:04:11.894116Z"
    }
   },
   "outputs": [],
   "source": [
    "A = hdf['key2']\n",
    "A1=A[10:900]\n",
    "Acut=A1.iloc[:,300:]"
   ]
  },
  {
   "cell_type": "code",
   "execution_count": null,
   "id": "3ddd51fa",
   "metadata": {
    "ExecuteTime": {
     "end_time": "2023-06-30T15:04:11.924038Z",
     "start_time": "2023-06-30T15:04:11.912068Z"
    }
   },
   "outputs": [],
   "source": [
    "#Data processing\n",
    "Stopx=(len(Acut.index))*0.3777\n",
    "x = np.arange(0,Stopx,0.3777)\n",
    "Stopy=(Acut.shape[1])*0.3925\n",
    "y = np.arange(0,Stopy,0.3925)\n",
    "Acut_rename=Acut.copy()\n",
    "Acut_rename.index=x\n",
    "Acut_rename.columns=y\n",
    "Intensity=Acut_rename\n",
    "Intensity_cut=Intensity.iloc[:,:int(len(Intensity.columns)/2)]"
   ]
  },
  {
   "cell_type": "code",
   "execution_count": null,
   "id": "c33e3978",
   "metadata": {
    "ExecuteTime": {
     "end_time": "2023-06-30T15:04:12.146445Z",
     "start_time": "2023-06-30T15:04:11.925033Z"
    }
   },
   "outputs": [],
   "source": [
    "Ystart=0\n",
    "Yend=Intensity_cut.shape[0]\n",
    "Xstart=0\n",
    "Xend=Intensity_cut.shape[1]\n",
    "df=Intensity.iloc[Ystart:Yend,Xstart:Xend]\n",
    "data = df.values\n",
    "\n",
    "plt.figure()\n",
    "plt.axis('off') \n",
    "plt.margins(0,0)\n",
    "plt.imshow(data, extent=[Intensity.columns[Xstart], Intensity.columns[Xend-1],Intensity.index[Ystart], Intensity.index[Yend-1]])\n",
    "plt.savefig('',transparent=True,bbox_inches='tight',pad_inches = -0.1,dpi=600)\n",
    "plt.show() "
   ]
  },
  {
   "cell_type": "code",
   "execution_count": null,
   "id": "e8bedc4a",
   "metadata": {
    "ExecuteTime": {
     "end_time": "2023-06-30T15:04:12.162401Z",
     "start_time": "2023-06-30T15:04:12.148438Z"
    }
   },
   "outputs": [],
   "source": [
    "# Generate some neat n times 3 matrix using a variant of sync function\n",
    "x = df.index\n",
    "y = df.columns\n",
    "mesh_x, mesh_y = np.meshgrid(x, y)\n",
    "z = np.array(df).transpose()\n",
    "xyz = np.zeros((np.size(mesh_x), 3))\n",
    "xyz[:, 0] = np.reshape(mesh_x, -1)\n",
    "xyz[:, 1] = np.reshape(mesh_y, -1)\n",
    "xyz[:, 2] = np.reshape(z, -1)"
   ]
  },
  {
   "cell_type": "code",
   "execution_count": null,
   "id": "8db22f2b",
   "metadata": {
    "ExecuteTime": {
     "end_time": "2023-06-30T15:04:12.241696Z",
     "start_time": "2023-06-30T15:04:12.164395Z"
    }
   },
   "outputs": [],
   "source": [
    "# Pass xyz to Open3D.o3d.geometry.PointCloud and visualize\n",
    "pcd = o3d.geometry.PointCloud()\n",
    "pcd.points = o3d.utility.Vector3dVector(xyz)\n",
    "radius = 1  # Search Radius\n",
    "max_nn = 9  # Maximum number of points in the neighborhood for estimating normals\n",
    "pcd.estimate_normals(search_param=o3d.geometry.KDTreeSearchParamHybrid(radius, max_nn))"
   ]
  },
  {
   "cell_type": "code",
   "execution_count": null,
   "id": "c9538cfd",
   "metadata": {
    "ExecuteTime": {
     "end_time": "2023-06-30T15:04:12.256656Z",
     "start_time": "2023-06-30T15:04:12.243690Z"
    }
   },
   "outputs": [],
   "source": [
    "#Calculate the unit vector in the opposite direction of the laser\n",
    "points = [[0, 0, 0],[185, 0, 97],[185, 10, 97]]\n",
    "\n",
    "p0, p1, p2 = points\n",
    "x0, y0, z0 = p0\n",
    "x1, y1, z1 = p1\n",
    "x2, y2, z2 = p2\n",
    "\n",
    "ux, uy, uz = u = [x1-x0, y1-y0, z1-z0] #first vector\n",
    "vx, vy, vz = v = [x2-x0, y2-y0, z2-z0] #sec vector\n",
    "\n",
    "u_cross_v = [uy*vz-uz*vy, uz*vx-ux*vz, ux*vy-uy*vx] #cross product\n",
    "\n",
    "normal = np.array(u_cross_v)\n",
    "\n",
    "unit_laser = normal / np.linalg.norm(normal)\n",
    "unit_laser"
   ]
  },
  {
   "cell_type": "code",
   "execution_count": null,
   "id": "af13b12c",
   "metadata": {
    "ExecuteTime": {
     "end_time": "2023-06-30T15:04:12.272614Z",
     "start_time": "2023-06-30T15:04:12.258651Z"
    }
   },
   "outputs": [],
   "source": [
    "o3d.geometry.PointCloud.orient_normals_to_align_with_direction(pcd, orientation_reference=unit_laser)  \n",
    "#Set the normal vector in the same direction as the laser inverse"
   ]
  },
  {
   "cell_type": "code",
   "execution_count": null,
   "id": "5b79d7ad",
   "metadata": {
    "ExecuteTime": {
     "end_time": "2023-06-30T15:04:13.278966Z",
     "start_time": "2023-06-30T15:04:12.275606Z"
    }
   },
   "outputs": [],
   "source": [
    "normals=np.array(pcd.normals)\n",
    "def cal_angle_of_vector(v0, v1, is_use_deg=True):\n",
    "    dot_product = np.dot(v0, v1)\n",
    "    v0_len = np.linalg.norm(v0)\n",
    "    v1_len = np.linalg.norm(v1)\n",
    "    try:\n",
    "        angle_rad = np.arccos(dot_product / (v0_len * v1_len))\n",
    "    except ZeroDivisionError as error:\n",
    "        raise ZeroDivisionError(\"{}\".format(error))\n",
    " \n",
    "    if is_use_deg:\n",
    "        return np.rad2deg(angle_rad)\n",
    "    return angle_rad\n",
    "\n",
    "degree=[]\n",
    "for i in range(len(normals)):\n",
    "    dd=cal_angle_of_vector(normals[i], unit_laser, is_use_deg=True)\n",
    "    degree.append(dd)\n",
    "degree"
   ]
  },
  {
   "cell_type": "code",
   "execution_count": null,
   "id": "b5c62435",
   "metadata": {
    "ExecuteTime": {
     "end_time": "2023-06-30T15:04:13.294925Z",
     "start_time": "2023-06-30T15:04:13.279963Z"
    }
   },
   "outputs": [],
   "source": [
    "degreearray=np.array(degree)\n",
    "degreearraynew=degreearray.reshape(z.shape)\n",
    "Finaldegree=pd.DataFrame(degreearraynew.transpose())\n",
    "Finaldegree.index=x\n",
    "Finaldegree.columns=y\n",
    "FinalFinaldegree=Finaldegree.iloc[:,:50]"
   ]
  },
  {
   "cell_type": "code",
   "execution_count": null,
   "id": "30da36cc",
   "metadata": {
    "ExecuteTime": {
     "end_time": "2023-06-30T15:04:13.310881Z",
     "start_time": "2023-06-30T15:04:13.295922Z"
    }
   },
   "outputs": [],
   "source": [
    "def plotcontour(data):\n",
    "     x = data.index\n",
    "     y = data.columns\n",
    "     xs, ys = np.meshgrid(x, y)\n",
    "     zs = np.array(data).transpose()\n",
    "     fig=plt.figure(dpi=300)\n",
    "     ax=fig.add_subplot()\n",
    "     k=50\n",
    "     dx=data.index.max()-data.index.min()\n",
    "     dy=data.columns.max()-data.columns.min()\n",
    "     dz=data.max().max()-data.min().min()\n",
    "     norm = cm.colors.Normalize(vmax=abs(zs).max(), vmin=abs(zs).min())\n",
    "     CD=plt.contour(xs,ys,zs,[0,10,20,30,40,50,60,70,80,90],norm=norm,colors=[\"red\",\"red\",\"red\",\"red\",\"black\",\"black\",\"black\",\"black\",\"black\",\"black\",],linewidths=0.1,alpha=1)\n",
    "     ax.set_box_aspect(dy/dx)\n",
    "     plt.axis('off') \n",
    "     plt.show()"
   ]
  },
  {
   "cell_type": "code",
   "execution_count": null,
   "id": "9b0acf90",
   "metadata": {},
   "outputs": [],
   "source": [
    "def Intensity_Plot(data):\n",
    "    import plotly.graph_objects as go\n",
    "    import plotly.express as px\n",
    "    import plotly.io as pio\n",
    "    #pio.renderers.default = 'browser'\n",
    "\n",
    "    fig = px.imshow(np.array(data))#, color_continuous_scale='gray')\n",
    "    fig.show()"
   ]
  },
  {
   "cell_type": "code",
   "execution_count": null,
   "id": "99a81031",
   "metadata": {},
   "outputs": [],
   "source": [
    "def show_img(img):\n",
    "    plt.style.use('dark_background')\n",
    "    plt.figure(figsize=(10,10)) \n",
    "    image_rgb = cv2.cvtColor(img, cv2.COLOR_BGR2RGB)\n",
    "    plt.imshow(image_rgb)\n",
    "    plt.axis('off')\n",
    "    plt.show()"
   ]
  },
  {
   "cell_type": "code",
   "execution_count": null,
   "id": "8a4e5a8f",
   "metadata": {},
   "outputs": [],
   "source": [
    "def do_GaussianBlur(gray):\n",
    "    kernel_size = 5\n",
    "    blur_gray = cv2.GaussianBlur(gray,(kernel_size, kernel_size), 0)\n",
    "    return blur_gray"
   ]
  },
  {
   "cell_type": "code",
   "execution_count": null,
   "id": "5baa33a5",
   "metadata": {},
   "outputs": [],
   "source": [
    "def do_Canny(blur_gray):\n",
    "    low_threshold = 100\n",
    "    high_threshold = 250\n",
    "    edges = cv2.Canny(blur_gray, low_threshold, high_threshold)\n",
    "    return edges"
   ]
  },
  {
   "cell_type": "code",
   "execution_count": null,
   "id": "4e84d170",
   "metadata": {},
   "outputs": [],
   "source": [
    "def img_processing(img):\n",
    "    # do something here\n",
    "    \n",
    "    print(\"Gray image:\")\n",
    "    gray = cv2.cvtColor(img, cv2.COLOR_BGR2GRAY) # start from BGR -> gray\n",
    "    #show_img(gray)\n",
    "\n",
    "    print(\"GaussianBlur image:\")\n",
    "    blur_img = do_GaussianBlur(gray)\n",
    "    #show_img(blur_img)\n",
    "    \n",
    "    thresh =  cv2.adaptiveThreshold(gray,255,cv2.ADAPTIVE_THRESH_MEAN_C,cv2.THRESH_BINARY,11,2)\n",
    "    \n",
    "    print(\"Canny edges:\")\n",
    "    edges = do_Canny(thresh)\n",
    "    #show_img(edges)\n",
    "    \n",
    "    plt.figure(figsize=(15,10)) \n",
    "    \n",
    "    plt.subplot(1, 4, 1)\n",
    "    plt.axis('off')\n",
    "    plt.imshow(cv2.cvtColor(img, cv2.COLOR_BGR2RGB))\n",
    "    plt.title(\"Origin picture\", {'fontsize':20}) \n",
    "    \n",
    "    plt.subplot(1, 4, 2)\n",
    "    plt.axis('off')\n",
    "    plt.imshow(cv2.cvtColor(blur_img, cv2.COLOR_BGR2RGB))\n",
    "    plt.title(\"GaussianBlur\", {'fontsize':20})  \n",
    "    \n",
    "    plt.subplot(1, 4, 3)\n",
    "    plt.axis('off')\n",
    "    plt.imshow(cv2.cvtColor(thresh, cv2.COLOR_BGR2RGB))\n",
    "    plt.title(\"Binarization\", {'fontsize':20})  \n",
    "\n",
    "    \n",
    "    plt.subplot(1, 4, 4)\n",
    "    plt.axis('off')\n",
    "    plt.imshow(cv2.cvtColor(edges, cv2.COLOR_BGR2RGB))\n",
    "    plt.title(\"Canny\", {'fontsize':20})\n",
    "    \n",
    "    plt.show()"
   ]
  },
  {
   "cell_type": "code",
   "execution_count": null,
   "id": "e216b2e8",
   "metadata": {},
   "outputs": [],
   "source": [
    "file_name = \"\"\n",
    "origin_img = cv2.imread(file_name)\n",
    "print(\"origin picture:\")\n",
    "show_img(origin_img)\n",
    "img_processing(origin_img)"
   ]
  },
  {
   "cell_type": "code",
   "execution_count": null,
   "id": "745d3829",
   "metadata": {
    "ExecuteTime": {
     "end_time": "2023-06-30T15:04:13.469459Z",
     "start_time": "2023-06-30T15:04:13.312876Z"
    }
   },
   "outputs": [],
   "source": [
    "# The red area indicates the acceptable range\n",
    "plotcontour(FinalFinaldegree)"
   ]
  },
  {
   "cell_type": "code",
   "execution_count": null,
   "id": "a63906ab",
   "metadata": {},
   "outputs": [],
   "source": [
    "def Augmenteddata(x,y,n,P):\n",
    "    Type = pd.DataFrame(columns=[1,2,3,4,5,6,7,8,9,10])\n",
    "    for i in range(len(y)):\n",
    "        N1=P.iloc[y[i]-1,x[i]-1]\n",
    "        N2=P.iloc[y[i]-1,x[i]]\n",
    "        N3=P.iloc[y[i]-1,x[i]+1]\n",
    "        N4=P.iloc[y[i],x[i]-1]\n",
    "        N5=P.iloc[y[i],x[i]]\n",
    "        N6=P.iloc[y[i],x[i]+1]\n",
    "        N7=P.iloc[y[i]+1,x[i]-1]\n",
    "        N8=P.iloc[y[i]+1,x[i]]\n",
    "        N9=P.iloc[y[i]+1,x[i]+1]\n",
    "        loc=str(n)+'_'+str(i)\n",
    "        Type.loc[loc]=[N1,N2,N3,N4,N5,N6,N7,N8,N9,n]\n",
    "        #Rotate 90°\n",
    "    for i in range(len(y)):\n",
    "        N1=P.iloc[y[i]-1,x[i]-1]\n",
    "        N2=P.iloc[y[i]-1,x[i]]\n",
    "        N3=P.iloc[y[i]-1,x[i]+1]\n",
    "        N4=P.iloc[y[i],x[i]-1]\n",
    "        N5=P.iloc[y[i],x[i]]\n",
    "        N6=P.iloc[y[i],x[i]+1]\n",
    "        N7=P.iloc[y[i]+1,x[i]-1]\n",
    "        N8=P.iloc[y[i]+1,x[i]]\n",
    "        N9=P.iloc[y[i]+1,x[i]+1]\n",
    "        loc=str(n)+'_'+str(i+150)\n",
    "        Type.loc[loc]=[N7,N4,N1,N8,N5,N2,N9,N6,N3,n]\n",
    "    for i in range(len(y)):\n",
    "        N1=P.iloc[y[i]-1,x[i]-1]\n",
    "        N2=P.iloc[y[i]-1,x[i]]\n",
    "        N3=P.iloc[y[i]-1,x[i]+1]\n",
    "        N4=P.iloc[y[i],x[i]-1]\n",
    "        N5=P.iloc[y[i],x[i]]\n",
    "        N6=P.iloc[y[i],x[i]+1]\n",
    "        N7=P.iloc[y[i]+1,x[i]-1]\n",
    "        N8=P.iloc[y[i]+1,x[i]]\n",
    "        N9=P.iloc[y[i]+1,x[i]+1]\n",
    "        loc=str(n)+'_'+str(i+300)\n",
    "        Type.loc[loc]=[N9,N8,N7,N6,N5,N4,N3,N2,N1,n]\n",
    "    for i in range(len(y)):\n",
    "        N1=P.iloc[y[i]-1,x[i]-1]\n",
    "        N2=P.iloc[y[i]-1,x[i]]\n",
    "        N3=P.iloc[y[i]-1,x[i]+1]\n",
    "        N4=P.iloc[y[i],x[i]-1]\n",
    "        N5=P.iloc[y[i],x[i]]\n",
    "        N6=P.iloc[y[i],x[i]+1]\n",
    "        N7=P.iloc[y[i]+1,x[i]-1]\n",
    "        N8=P.iloc[y[i]+1,x[i]]\n",
    "        N9=P.iloc[y[i]+1,x[i]+1]\n",
    "        loc=str(n)+'_'+str(i+450)\n",
    "        Type.loc[loc]=[N3,N6,N9,N2,N5,N8,N1,N4,N7,n]\n",
    "    for i in range(len(y)):\n",
    "        N1=P.iloc[y[i]-1,x[i]-1]\n",
    "        N2=P.iloc[y[i]-1,x[i]]\n",
    "        N3=P.iloc[y[i]-1,x[i]+1]\n",
    "        N4=P.iloc[y[i],x[i]-1]\n",
    "        N5=P.iloc[y[i],x[i]]\n",
    "        N6=P.iloc[y[i],x[i]+1]\n",
    "        N7=P.iloc[y[i]+1,x[i]-1]\n",
    "        N8=P.iloc[y[i]+1,x[i]]\n",
    "        N9=P.iloc[y[i]+1,x[i]+1]\n",
    "        loc=str(n)+'_'+str(i+600)\n",
    "        Type.loc[loc]=[N3,N2,N1,N6,N5,N4,N9,N8,N7,n]\n",
    "        #mirror\n",
    "    for i in range(len(y)):\n",
    "        N1=P.iloc[y[i]-1,x[i]-1]\n",
    "        N2=P.iloc[y[i]-1,x[i]]\n",
    "        N3=P.iloc[y[i]-1,x[i]+1]\n",
    "        N4=P.iloc[y[i],x[i]-1]\n",
    "        N5=P.iloc[y[i],x[i]]\n",
    "        N6=P.iloc[y[i],x[i]+1]\n",
    "        N7=P.iloc[y[i]+1,x[i]-1]\n",
    "        N8=P.iloc[y[i]+1,x[i]]\n",
    "        N9=P.iloc[y[i]+1,x[i]+1]\n",
    "        loc=str(n)+'_'+str(i+750)\n",
    "        Type.loc[loc]=[N3,N2,N1,N6,N5,N4,N9,N8,N7,n]\n",
    "    for i in range(len(y)):\n",
    "        N1=P.iloc[y[i]-1,x[i]-1]\n",
    "        N2=P.iloc[y[i]-1,x[i]]\n",
    "        N3=P.iloc[y[i]-1,x[i]+1]\n",
    "        N4=P.iloc[y[i],x[i]-1]\n",
    "        N5=P.iloc[y[i],x[i]]\n",
    "        N6=P.iloc[y[i],x[i]+1]\n",
    "        N7=P.iloc[y[i]+1,x[i]-1]\n",
    "        N8=P.iloc[y[i]+1,x[i]]\n",
    "        N9=P.iloc[y[i]+1,x[i]+1]\n",
    "        loc=str(n)+'_'+str(i+900)\n",
    "        Type.loc[loc]=[N7,N8,N9,N4,N5,N6,N1,N2,N3,n]\n",
    "        \n",
    "    return Type"
   ]
  },
  {
   "cell_type": "code",
   "execution_count": null,
   "id": "6b1f1b94",
   "metadata": {},
   "outputs": [],
   "source": [
    "df1 = pd.read_excel('', sheet_name='Sheet1')\n",
    "x1=df1.iloc[:,3]\n",
    "y1=df1.iloc[:,4]\n",
    "\n",
    "df2 = pd.read_excel('', sheet_name='Sheet2')\n",
    "x2=df2.iloc[:,3]\n",
    "y2=df2.iloc[:,4]\n",
    "\n",
    "df3 = pd.read_excel('', sheet_name='Sheet3')\n",
    "x3=df3.iloc[:,3]\n",
    "y3=df3.iloc[:,4]"
   ]
  },
  {
   "cell_type": "code",
   "execution_count": null,
   "id": "987de624",
   "metadata": {},
   "outputs": [],
   "source": [
    "type1=Augmenteddata(x1.astype(int),y1.astype(int),1,Profiles)\n",
    "type2=Augmenteddata(x2.astype(int),y2.astype(int),2,Profiles)\n",
    "type3=Augmenteddata(x3.astype(int),y3.astype(int),3,Profiles)\n",
    "frames=[type1,type2,type3]\n",
    "types = pd.concat(frames)\n",
    "pd.set_option('display.max_rows', None)"
   ]
  },
  {
   "cell_type": "code",
   "execution_count": null,
   "id": "a78383d5",
   "metadata": {},
   "outputs": [],
   "source": [
    "from keras.utils import np_utils\n",
    "from sklearn.preprocessing import LabelEncoder\n",
    "from sklearn.pipeline import Pipeline\n",
    "from sklearn.model_selection import KFold, cross_val_score"
   ]
  },
  {
   "cell_type": "code",
   "execution_count": null,
   "id": "d2024d35",
   "metadata": {},
   "outputs": [],
   "source": [
    "# load pima indians dataset\n",
    "# split into input (X) and output (Y) variables\n",
    "X=types.iloc[:,0:9]\n",
    "Y=types.iloc[:,9]"
   ]
  },
  {
   "cell_type": "code",
   "execution_count": null,
   "id": "05b88636",
   "metadata": {},
   "outputs": [],
   "source": [
    "# fix random seed for reproducibility\n",
    "seed = 7\n",
    "np.random.seed(seed)\n",
    "X=types.iloc[:,0:9]\n",
    "Y=types.iloc[:,9]"
   ]
  },
  {
   "cell_type": "code",
   "execution_count": null,
   "id": "6459a89c",
   "metadata": {},
   "outputs": [],
   "source": [
    "# encode class values as integers\n",
    "encoder = LabelEncoder()\n",
    "encoded_Y = encoder.fit_transform(Y)\n",
    "# convert integers to dummy variables (one hot encoding)\n",
    "dummy_y = np_utils.to_categorical(encoded_Y)"
   ]
  },
  {
   "cell_type": "code",
   "execution_count": null,
   "id": "5d524b91",
   "metadata": {},
   "outputs": [],
   "source": [
    "# splitting data into training set and test set. If random_state is set to an integer, the split datasets are fixed.\n",
    "X_train, X_test, Y_train, Y_test = train_test_split(X, dummy_y, test_size=0.2, random_state=0)"
   ]
  },
  {
   "cell_type": "code",
   "execution_count": null,
   "id": "78b6923d",
   "metadata": {},
   "outputs": [],
   "source": [
    "model=Sequential()\n",
    "model.add(Dense(32, input_dim=9,activation='relu'))\n",
    "model.add(Dense(64, activation='relu'))\n",
    "model.add(Dense(3,activation='softmax'))\n",
    "model.compile(loss='categorical_crossentropy', optimizer='adam', metrics=['accuracy']) "
   ]
  },
  {
   "cell_type": "code",
   "execution_count": null,
   "id": "41c4666b",
   "metadata": {},
   "outputs": [],
   "source": [
    "model.fit(X_train, Y_train,epochs=100, batch_size=50)"
   ]
  },
  {
   "cell_type": "code",
   "execution_count": null,
   "id": "275d4921",
   "metadata": {},
   "outputs": [],
   "source": [
    "eval = model.evaluate(X_test, Y_test, verbose=0)\n",
    "print(\"Evaluation on test data: loss = %0.6f accuracy = %0.2f%% \" % (eval[0], eval[1] * 100) )"
   ]
  }
 ],
 "metadata": {
  "kernelspec": {
   "display_name": "Python 3 (ipykernel)",
   "language": "python",
   "name": "python3"
  },
  "language_info": {
   "codemirror_mode": {
    "name": "ipython",
    "version": 3
   },
   "file_extension": ".py",
   "mimetype": "text/x-python",
   "name": "python",
   "nbconvert_exporter": "python",
   "pygments_lexer": "ipython3",
   "version": "3.9.15"
  }
 },
 "nbformat": 4,
 "nbformat_minor": 5
}
